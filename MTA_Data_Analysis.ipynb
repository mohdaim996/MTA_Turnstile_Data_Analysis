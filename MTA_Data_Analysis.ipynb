{
  "nbformat": 4,
  "nbformat_minor": 5,
  "metadata": {
    "kernelspec": {
      "display_name": "Python 3 (ipykernel)",
      "language": "python",
      "name": "python3"
    },
    "language_info": {
      "codemirror_mode": {
        "name": "ipython",
        "version": 3
      },
      "file_extension": ".py",
      "mimetype": "text/x-python",
      "name": "python",
      "nbconvert_exporter": "python",
      "pygments_lexer": "ipython3",
      "version": "3.9.4"
    },
    "colab": {
      "name": "MTA_Data_Analysis.ipynb",
      "provenance": [],
      "collapsed_sections": []
    }
  },
  "cells": [
    {
      "cell_type": "code",
      "metadata": {
        "id": "9dd04a5b"
      },
      "source": [
        "import pandas as pd\n",
        "import numpy as np\n",
        "import seaborn as sns\n",
        "import matplotlib.pyplot as plt\n",
        "from sqlalchemy import create_engine\n",
        "eng = create_engine('sqlite:///MTA.db')\n",
        "\n"
      ],
      "id": "9dd04a5b",
      "execution_count": 1,
      "outputs": []
    },
    {
      "cell_type": "markdown",
      "metadata": {
        "id": "7ef31e26"
      },
      "source": [
        "# MTA Turnstile Data Analysis"
      ],
      "id": "7ef31e26"
    },
    {
      "cell_type": "markdown",
      "metadata": {
        "id": "ce16de92"
      },
      "source": [
        "## 1. Load data, create dataframe"
      ],
      "id": "ce16de92"
    },
    {
      "cell_type": "code",
      "metadata": {
        "id": "1a5e26aa"
      },
      "source": [
        "df = pd.read_sql('select * from mta', eng)"
      ],
      "id": "1a5e26aa",
      "execution_count": 5,
      "outputs": []
    },
    {
      "cell_type": "markdown",
      "metadata": {
        "id": "33395602"
      },
      "source": [
        "## 2. Preview data"
      ],
      "id": "33395602"
    },
    {
      "cell_type": "code",
      "metadata": {
        "colab": {
          "base_uri": "https://localhost:8080/",
          "height": 167
        },
        "id": "20b3e2a1",
        "outputId": "d167eea6-4caf-4024-b6c1-fbdab5c96ccf"
      },
      "source": [
        "df.columns"
      ],
      "id": "20b3e2a1",
      "execution_count": 1,
      "outputs": [
        {
          "output_type": "error",
          "ename": "NameError",
          "evalue": "ignored",
          "traceback": [
            "\u001b[0;31m---------------------------------------------------------------------------\u001b[0m",
            "\u001b[0;31mNameError\u001b[0m                                 Traceback (most recent call last)",
            "\u001b[0;32m<ipython-input-1-b666bf274d0a>\u001b[0m in \u001b[0;36m<module>\u001b[0;34m()\u001b[0m\n\u001b[0;32m----> 1\u001b[0;31m \u001b[0mdf\u001b[0m\u001b[0;34m.\u001b[0m\u001b[0mcolumns\u001b[0m\u001b[0;34m\u001b[0m\u001b[0;34m\u001b[0m\u001b[0m\n\u001b[0m",
            "\u001b[0;31mNameError\u001b[0m: name 'df' is not defined"
          ]
        }
      ]
    },
    {
      "cell_type": "code",
      "metadata": {
        "id": "bBPj3UIETGhl"
      },
      "source": [
        "df.info()"
      ],
      "id": "bBPj3UIETGhl",
      "execution_count": null,
      "outputs": []
    },
    {
      "cell_type": "code",
      "metadata": {
        "id": "ripm1nu6TGSf"
      },
      "source": [
        "df.describe()"
      ],
      "id": "ripm1nu6TGSf",
      "execution_count": null,
      "outputs": []
    },
    {
      "cell_type": "markdown",
      "metadata": {
        "id": "a3cff34f"
      },
      "source": [
        "## 3. Data cleaning and preperation"
      ],
      "id": "a3cff34f"
    },
    {
      "cell_type": "markdown",
      "metadata": {
        "id": "B-ubIzVeTNx3"
      },
      "source": [
        "### stripping columns names"
      ],
      "id": "B-ubIzVeTNx3"
    },
    {
      "cell_type": "code",
      "metadata": {
        "scrolled": false,
        "colab": {
          "base_uri": "https://localhost:8080/"
        },
        "id": "d6a9cae1",
        "outputId": "00bf538d-368e-479f-a0a7-1745b899b431"
      },
      "source": [
        "#remove white space in last column \n",
        "df.rename(columns = {df.columns[-1]:df.columns[-1].strip()},inplace = True)\n",
        "print(df.columns)"
      ],
      "id": "d6a9cae1",
      "execution_count": 9,
      "outputs": [
        {
          "output_type": "stream",
          "name": "stdout",
          "text": [
            "Index(['DATE_TIME', 'C/A', 'UNIT', 'SCP', 'STATION', 'LINENAME', 'DIVISION',\n",
            "       'DATE', 'TIME', 'DESC', 'ENTRIES', 'EXITS'],\n",
            "      dtype='object')\n"
          ]
        }
      ]
    },
    {
      "cell_type": "code",
      "metadata": {
        "colab": {
          "base_uri": "https://localhost:8080/",
          "height": 423
        },
        "id": "0df77d31",
        "outputId": "d6cc26b1-7f27-40a6-c443-b6d82adad822"
      },
      "source": [
        "df"
      ],
      "id": "0df77d31",
      "execution_count": 10,
      "outputs": [
        {
          "output_type": "execute_result",
          "data": {
            "text/html": [
              "<div>\n",
              "<style scoped>\n",
              "    .dataframe tbody tr th:only-of-type {\n",
              "        vertical-align: middle;\n",
              "    }\n",
              "\n",
              "    .dataframe tbody tr th {\n",
              "        vertical-align: top;\n",
              "    }\n",
              "\n",
              "    .dataframe thead th {\n",
              "        text-align: right;\n",
              "    }\n",
              "</style>\n",
              "<table border=\"1\" class=\"dataframe\">\n",
              "  <thead>\n",
              "    <tr style=\"text-align: right;\">\n",
              "      <th></th>\n",
              "      <th>DATE_TIME</th>\n",
              "      <th>C/A</th>\n",
              "      <th>UNIT</th>\n",
              "      <th>SCP</th>\n",
              "      <th>STATION</th>\n",
              "      <th>LINENAME</th>\n",
              "      <th>DIVISION</th>\n",
              "      <th>DATE</th>\n",
              "      <th>TIME</th>\n",
              "      <th>DESC</th>\n",
              "      <th>ENTRIES</th>\n",
              "      <th>EXITS</th>\n",
              "    </tr>\n",
              "  </thead>\n",
              "  <tbody>\n",
              "    <tr>\n",
              "      <th>0</th>\n",
              "      <td>2021-08-28 00:00:00</td>\n",
              "      <td>A002</td>\n",
              "      <td>R051</td>\n",
              "      <td>02-00-00</td>\n",
              "      <td>59 ST</td>\n",
              "      <td>NQR456W</td>\n",
              "      <td>BMT</td>\n",
              "      <td>08/28/2021</td>\n",
              "      <td>00:00:00</td>\n",
              "      <td>REGULAR</td>\n",
              "      <td>7625998</td>\n",
              "      <td>2609113</td>\n",
              "    </tr>\n",
              "    <tr>\n",
              "      <th>1</th>\n",
              "      <td>2021-08-28 04:00:00</td>\n",
              "      <td>A002</td>\n",
              "      <td>R051</td>\n",
              "      <td>02-00-00</td>\n",
              "      <td>59 ST</td>\n",
              "      <td>NQR456W</td>\n",
              "      <td>BMT</td>\n",
              "      <td>08/28/2021</td>\n",
              "      <td>04:00:00</td>\n",
              "      <td>REGULAR</td>\n",
              "      <td>7626014</td>\n",
              "      <td>2609117</td>\n",
              "    </tr>\n",
              "    <tr>\n",
              "      <th>2</th>\n",
              "      <td>2021-08-28 08:00:00</td>\n",
              "      <td>A002</td>\n",
              "      <td>R051</td>\n",
              "      <td>02-00-00</td>\n",
              "      <td>59 ST</td>\n",
              "      <td>NQR456W</td>\n",
              "      <td>BMT</td>\n",
              "      <td>08/28/2021</td>\n",
              "      <td>08:00:00</td>\n",
              "      <td>REGULAR</td>\n",
              "      <td>7626024</td>\n",
              "      <td>2609135</td>\n",
              "    </tr>\n",
              "    <tr>\n",
              "      <th>3</th>\n",
              "      <td>2021-08-28 12:00:00</td>\n",
              "      <td>A002</td>\n",
              "      <td>R051</td>\n",
              "      <td>02-00-00</td>\n",
              "      <td>59 ST</td>\n",
              "      <td>NQR456W</td>\n",
              "      <td>BMT</td>\n",
              "      <td>08/28/2021</td>\n",
              "      <td>12:00:00</td>\n",
              "      <td>REGULAR</td>\n",
              "      <td>7626086</td>\n",
              "      <td>2609191</td>\n",
              "    </tr>\n",
              "    <tr>\n",
              "      <th>4</th>\n",
              "      <td>2021-08-28 16:00:00</td>\n",
              "      <td>A002</td>\n",
              "      <td>R051</td>\n",
              "      <td>02-00-00</td>\n",
              "      <td>59 ST</td>\n",
              "      <td>NQR456W</td>\n",
              "      <td>BMT</td>\n",
              "      <td>08/28/2021</td>\n",
              "      <td>16:00:00</td>\n",
              "      <td>REGULAR</td>\n",
              "      <td>7626206</td>\n",
              "      <td>2609221</td>\n",
              "    </tr>\n",
              "    <tr>\n",
              "      <th>...</th>\n",
              "      <td>...</td>\n",
              "      <td>...</td>\n",
              "      <td>...</td>\n",
              "      <td>...</td>\n",
              "      <td>...</td>\n",
              "      <td>...</td>\n",
              "      <td>...</td>\n",
              "      <td>...</td>\n",
              "      <td>...</td>\n",
              "      <td>...</td>\n",
              "      <td>...</td>\n",
              "      <td>...</td>\n",
              "    </tr>\n",
              "    <tr>\n",
              "      <th>209255</th>\n",
              "      <td>2021-06-18 05:00:00</td>\n",
              "      <td>TRAM2</td>\n",
              "      <td>R469</td>\n",
              "      <td>00-05-01</td>\n",
              "      <td>RIT-ROOSEVELT</td>\n",
              "      <td>R</td>\n",
              "      <td>RIT</td>\n",
              "      <td>06/18/2021</td>\n",
              "      <td>05:00:00</td>\n",
              "      <td>REGULAR</td>\n",
              "      <td>5554</td>\n",
              "      <td>584</td>\n",
              "    </tr>\n",
              "    <tr>\n",
              "      <th>209256</th>\n",
              "      <td>2021-06-18 09:00:00</td>\n",
              "      <td>TRAM2</td>\n",
              "      <td>R469</td>\n",
              "      <td>00-05-01</td>\n",
              "      <td>RIT-ROOSEVELT</td>\n",
              "      <td>R</td>\n",
              "      <td>RIT</td>\n",
              "      <td>06/18/2021</td>\n",
              "      <td>09:00:00</td>\n",
              "      <td>REGULAR</td>\n",
              "      <td>5554</td>\n",
              "      <td>584</td>\n",
              "    </tr>\n",
              "    <tr>\n",
              "      <th>209257</th>\n",
              "      <td>2021-06-18 13:00:00</td>\n",
              "      <td>TRAM2</td>\n",
              "      <td>R469</td>\n",
              "      <td>00-05-01</td>\n",
              "      <td>RIT-ROOSEVELT</td>\n",
              "      <td>R</td>\n",
              "      <td>RIT</td>\n",
              "      <td>06/18/2021</td>\n",
              "      <td>13:00:00</td>\n",
              "      <td>REGULAR</td>\n",
              "      <td>5554</td>\n",
              "      <td>584</td>\n",
              "    </tr>\n",
              "    <tr>\n",
              "      <th>209258</th>\n",
              "      <td>2021-06-18 17:00:00</td>\n",
              "      <td>TRAM2</td>\n",
              "      <td>R469</td>\n",
              "      <td>00-05-01</td>\n",
              "      <td>RIT-ROOSEVELT</td>\n",
              "      <td>R</td>\n",
              "      <td>RIT</td>\n",
              "      <td>06/18/2021</td>\n",
              "      <td>17:00:00</td>\n",
              "      <td>REGULAR</td>\n",
              "      <td>5554</td>\n",
              "      <td>584</td>\n",
              "    </tr>\n",
              "    <tr>\n",
              "      <th>209259</th>\n",
              "      <td>2021-06-18 21:00:00</td>\n",
              "      <td>TRAM2</td>\n",
              "      <td>R469</td>\n",
              "      <td>00-05-01</td>\n",
              "      <td>RIT-ROOSEVELT</td>\n",
              "      <td>R</td>\n",
              "      <td>RIT</td>\n",
              "      <td>06/18/2021</td>\n",
              "      <td>21:00:00</td>\n",
              "      <td>REGULAR</td>\n",
              "      <td>5554</td>\n",
              "      <td>584</td>\n",
              "    </tr>\n",
              "  </tbody>\n",
              "</table>\n",
              "<p>2513308 rows × 12 columns</p>\n",
              "</div>"
            ],
            "text/plain": [
              "                 DATE_TIME    C/A  UNIT  ...     DESC  ENTRIES    EXITS\n",
              "0      2021-08-28 00:00:00   A002  R051  ...  REGULAR  7625998  2609113\n",
              "1      2021-08-28 04:00:00   A002  R051  ...  REGULAR  7626014  2609117\n",
              "2      2021-08-28 08:00:00   A002  R051  ...  REGULAR  7626024  2609135\n",
              "3      2021-08-28 12:00:00   A002  R051  ...  REGULAR  7626086  2609191\n",
              "4      2021-08-28 16:00:00   A002  R051  ...  REGULAR  7626206  2609221\n",
              "...                    ...    ...   ...  ...      ...      ...      ...\n",
              "209255 2021-06-18 05:00:00  TRAM2  R469  ...  REGULAR     5554      584\n",
              "209256 2021-06-18 09:00:00  TRAM2  R469  ...  REGULAR     5554      584\n",
              "209257 2021-06-18 13:00:00  TRAM2  R469  ...  REGULAR     5554      584\n",
              "209258 2021-06-18 17:00:00  TRAM2  R469  ...  REGULAR     5554      584\n",
              "209259 2021-06-18 21:00:00  TRAM2  R469  ...  REGULAR     5554      584\n",
              "\n",
              "[2513308 rows x 12 columns]"
            ]
          },
          "metadata": {},
          "execution_count": 10
        }
      ]
    },
    {
      "cell_type": "markdown",
      "metadata": {
        "id": "ttRx42_yTX_Z"
      },
      "source": [
        "### Checking for duplicates\n",
        "by grouping the rows and counting them we notice 53 duplicates"
      ],
      "id": "ttRx42_yTX_Z"
    },
    {
      "cell_type": "code",
      "metadata": {
        "colab": {
          "base_uri": "https://localhost:8080/"
        },
        "id": "DF90d7OXAX4e",
        "outputId": "d2807cc0-526a-45c7-844a-1c5572ea6955"
      },
      "source": [
        "duplicates =df.groupby(['C/A',\t'UNIT',\t'SCP','LINENAME',\t'DIVISION','STATION','DATE_TIME']).ENTRIES.count().reset_index()\n",
        "duplicates.ENTRIES.value_counts()"
      ],
      "id": "DF90d7OXAX4e",
      "execution_count": 11,
      "outputs": [
        {
          "output_type": "execute_result",
          "data": {
            "text/plain": [
              "1    2513202\n",
              "2         53\n",
              "Name: ENTRIES, dtype: int64"
            ]
          },
          "metadata": {},
          "execution_count": 11
        }
      ]
    },
    {
      "cell_type": "markdown",
      "metadata": {
        "id": "gqsnHuhHTnlO"
      },
      "source": [
        "Removing the duplicates we found"
      ],
      "id": "gqsnHuhHTnlO"
    },
    {
      "cell_type": "code",
      "metadata": {
        "id": "lhJP-9XqNSo5"
      },
      "source": [
        "  df.drop_duplicates(['C/A',\t'UNIT',\t'SCP','LINENAME',\t'DIVISION','STATION','DATE_TIME'],inplace = True)"
      ],
      "id": "lhJP-9XqNSo5",
      "execution_count": 12,
      "outputs": []
    },
    {
      "cell_type": "code",
      "metadata": {
        "colab": {
          "base_uri": "https://localhost:8080/"
        },
        "id": "egCKn-6m0EVt",
        "outputId": "8ca6c0c5-fca7-4b04-b26b-538372afdaf6"
      },
      "source": [
        "duplicates =df.groupby(['C/A',\t'UNIT',\t'SCP','LINENAME',\t'DIVISION','STATION','DATE_TIME']).ENTRIES.count().reset_index()\n",
        "duplicates.ENTRIES.value_counts()"
      ],
      "id": "egCKn-6m0EVt",
      "execution_count": 13,
      "outputs": [
        {
          "output_type": "execute_result",
          "data": {
            "text/plain": [
              "1    2513255\n",
              "Name: ENTRIES, dtype: int64"
            ]
          },
          "metadata": {},
          "execution_count": 13
        }
      ]
    },
    {
      "cell_type": "markdown",
      "metadata": {
        "id": "6vkwZGBsT3J8"
      },
      "source": [
        "### calculations\n",
        "by subtracting the entries and exits we get the counts per day"
      ],
      "id": "6vkwZGBsT3J8"
    },
    {
      "cell_type": "code",
      "metadata": {
        "id": "IO9JEvIa2K_p"
      },
      "source": [
        "df_stations=df.copy(deep=True)\n",
        "df_stations['E_DIFF'] = (df\n",
        "          .groupby(by=['C/A',\t'UNIT',\t'SCP','LINENAME',\t'DIVISION','STATION'])\n",
        "          .ENTRIES.diff()\n",
        "          .reset_index(drop=True)\n",
        "          .to_list())\n",
        "df_stations['EX_DIFF'] = (df\n",
        "          .groupby(by=['C/A',\t'UNIT',\t'SCP','LINENAME',\t'DIVISION','STATION'])\n",
        "          .EXITS.diff()\n",
        "          .reset_index(drop=True)\n",
        "          .to_list())\n",
        "\n",
        "\n"
      ],
      "id": "IO9JEvIa2K_p",
      "execution_count": 56,
      "outputs": []
    },
    {
      "cell_type": "markdown",
      "metadata": {
        "id": "mvXHfhmpT8U1"
      },
      "source": [
        "### checking missing values\n",
        "after calculating the daily counts we notice missing values in the new columns"
      ],
      "id": "mvXHfhmpT8U1"
    },
    {
      "cell_type": "code",
      "metadata": {
        "colab": {
          "base_uri": "https://localhost:8080/"
        },
        "id": "P4AntZHpA6Qi",
        "outputId": "9b0f4cbb-aa78-4d87-94a4-87e91456dfa2"
      },
      "source": [
        "df_stations.isna().value_counts()"
      ],
      "id": "P4AntZHpA6Qi",
      "execution_count": 57,
      "outputs": [
        {
          "output_type": "execute_result",
          "data": {
            "text/plain": [
              "DATE_TIME  C/A    UNIT   SCP    STATION  LINENAME  DIVISION  DATE   TIME   DESC   ENTRIES  EXITS  E_DIFF  EX_DIFF\n",
              "False      False  False  False  False    False     False     False  False  False  False    False  False   False      2508226\n",
              "                                                                                                  True    True          5029\n",
              "dtype: int64"
            ]
          },
          "metadata": {},
          "execution_count": 57
        }
      ]
    },
    {
      "cell_type": "markdown",
      "metadata": {
        "id": "sEVsLgFsUMYV"
      },
      "source": [
        "remove all rows with missing values"
      ],
      "id": "sEVsLgFsUMYV"
    },
    {
      "cell_type": "code",
      "metadata": {
        "colab": {
          "base_uri": "https://localhost:8080/"
        },
        "id": "1PFRdcStA3IE",
        "outputId": "66ecac71-6630-46e5-9d4b-3f7338861bc4"
      },
      "source": [
        "df_stations.dropna(subset = ['ENTRIES','E_DIFF','EX_DIFF'],inplace = True)\n",
        "df_stations.isna().value_counts()"
      ],
      "id": "1PFRdcStA3IE",
      "execution_count": 58,
      "outputs": [
        {
          "output_type": "execute_result",
          "data": {
            "text/plain": [
              "DATE_TIME  C/A    UNIT   SCP    STATION  LINENAME  DIVISION  DATE   TIME   DESC   ENTRIES  EXITS  E_DIFF  EX_DIFF\n",
              "False      False  False  False  False    False     False     False  False  False  False    False  False   False      2508226\n",
              "dtype: int64"
            ]
          },
          "metadata": {},
          "execution_count": 58
        }
      ]
    },
    {
      "cell_type": "code",
      "metadata": {
        "colab": {
          "base_uri": "https://localhost:8080/",
          "height": 597
        },
        "id": "lc5AcL-p9jL_",
        "outputId": "f5a3226e-0b75-4d52-fb31-5ab4738d8fe3"
      },
      "source": [
        "df_stations.reset_index(inplace=True)\n",
        "df_stations"
      ],
      "id": "lc5AcL-p9jL_",
      "execution_count": 59,
      "outputs": [
        {
          "output_type": "execute_result",
          "data": {
            "text/html": [
              "<div>\n",
              "<style scoped>\n",
              "    .dataframe tbody tr th:only-of-type {\n",
              "        vertical-align: middle;\n",
              "    }\n",
              "\n",
              "    .dataframe tbody tr th {\n",
              "        vertical-align: top;\n",
              "    }\n",
              "\n",
              "    .dataframe thead th {\n",
              "        text-align: right;\n",
              "    }\n",
              "</style>\n",
              "<table border=\"1\" class=\"dataframe\">\n",
              "  <thead>\n",
              "    <tr style=\"text-align: right;\">\n",
              "      <th></th>\n",
              "      <th>index</th>\n",
              "      <th>DATE_TIME</th>\n",
              "      <th>C/A</th>\n",
              "      <th>UNIT</th>\n",
              "      <th>SCP</th>\n",
              "      <th>STATION</th>\n",
              "      <th>LINENAME</th>\n",
              "      <th>DIVISION</th>\n",
              "      <th>DATE</th>\n",
              "      <th>TIME</th>\n",
              "      <th>DESC</th>\n",
              "      <th>ENTRIES</th>\n",
              "      <th>EXITS</th>\n",
              "      <th>E_DIFF</th>\n",
              "      <th>EX_DIFF</th>\n",
              "    </tr>\n",
              "  </thead>\n",
              "  <tbody>\n",
              "    <tr>\n",
              "      <th>0</th>\n",
              "      <td>1</td>\n",
              "      <td>2021-08-28 04:00:00</td>\n",
              "      <td>A002</td>\n",
              "      <td>R051</td>\n",
              "      <td>02-00-00</td>\n",
              "      <td>59 ST</td>\n",
              "      <td>NQR456W</td>\n",
              "      <td>BMT</td>\n",
              "      <td>08/28/2021</td>\n",
              "      <td>04:00:00</td>\n",
              "      <td>REGULAR</td>\n",
              "      <td>7626014</td>\n",
              "      <td>2609117</td>\n",
              "      <td>-6814.0</td>\n",
              "      <td>-2821.0</td>\n",
              "    </tr>\n",
              "    <tr>\n",
              "      <th>1</th>\n",
              "      <td>2</td>\n",
              "      <td>2021-08-28 08:00:00</td>\n",
              "      <td>A002</td>\n",
              "      <td>R051</td>\n",
              "      <td>02-00-00</td>\n",
              "      <td>59 ST</td>\n",
              "      <td>NQR456W</td>\n",
              "      <td>BMT</td>\n",
              "      <td>08/28/2021</td>\n",
              "      <td>08:00:00</td>\n",
              "      <td>REGULAR</td>\n",
              "      <td>7626024</td>\n",
              "      <td>2609135</td>\n",
              "      <td>-7211.0</td>\n",
              "      <td>-2915.0</td>\n",
              "    </tr>\n",
              "    <tr>\n",
              "      <th>2</th>\n",
              "      <td>3</td>\n",
              "      <td>2021-08-28 12:00:00</td>\n",
              "      <td>A002</td>\n",
              "      <td>R051</td>\n",
              "      <td>02-00-00</td>\n",
              "      <td>59 ST</td>\n",
              "      <td>NQR456W</td>\n",
              "      <td>BMT</td>\n",
              "      <td>08/28/2021</td>\n",
              "      <td>12:00:00</td>\n",
              "      <td>REGULAR</td>\n",
              "      <td>7626086</td>\n",
              "      <td>2609191</td>\n",
              "      <td>-7509.0</td>\n",
              "      <td>-2931.0</td>\n",
              "    </tr>\n",
              "    <tr>\n",
              "      <th>3</th>\n",
              "      <td>4</td>\n",
              "      <td>2021-08-28 16:00:00</td>\n",
              "      <td>A002</td>\n",
              "      <td>R051</td>\n",
              "      <td>02-00-00</td>\n",
              "      <td>59 ST</td>\n",
              "      <td>NQR456W</td>\n",
              "      <td>BMT</td>\n",
              "      <td>08/28/2021</td>\n",
              "      <td>16:00:00</td>\n",
              "      <td>REGULAR</td>\n",
              "      <td>7626206</td>\n",
              "      <td>2609221</td>\n",
              "      <td>-7443.0</td>\n",
              "      <td>-3061.0</td>\n",
              "    </tr>\n",
              "    <tr>\n",
              "      <th>4</th>\n",
              "      <td>5</td>\n",
              "      <td>2021-08-28 20:00:00</td>\n",
              "      <td>A002</td>\n",
              "      <td>R051</td>\n",
              "      <td>02-00-00</td>\n",
              "      <td>59 ST</td>\n",
              "      <td>NQR456W</td>\n",
              "      <td>BMT</td>\n",
              "      <td>08/28/2021</td>\n",
              "      <td>20:00:00</td>\n",
              "      <td>REGULAR</td>\n",
              "      <td>7626348</td>\n",
              "      <td>2609238</td>\n",
              "      <td>-7384.0</td>\n",
              "      <td>-3161.0</td>\n",
              "    </tr>\n",
              "    <tr>\n",
              "      <th>...</th>\n",
              "      <td>...</td>\n",
              "      <td>...</td>\n",
              "      <td>...</td>\n",
              "      <td>...</td>\n",
              "      <td>...</td>\n",
              "      <td>...</td>\n",
              "      <td>...</td>\n",
              "      <td>...</td>\n",
              "      <td>...</td>\n",
              "      <td>...</td>\n",
              "      <td>...</td>\n",
              "      <td>...</td>\n",
              "      <td>...</td>\n",
              "      <td>...</td>\n",
              "      <td>...</td>\n",
              "    </tr>\n",
              "    <tr>\n",
              "      <th>2508221</th>\n",
              "      <td>209255</td>\n",
              "      <td>2021-06-18 05:00:00</td>\n",
              "      <td>TRAM2</td>\n",
              "      <td>R469</td>\n",
              "      <td>00-05-01</td>\n",
              "      <td>RIT-ROOSEVELT</td>\n",
              "      <td>R</td>\n",
              "      <td>RIT</td>\n",
              "      <td>06/18/2021</td>\n",
              "      <td>05:00:00</td>\n",
              "      <td>REGULAR</td>\n",
              "      <td>5554</td>\n",
              "      <td>584</td>\n",
              "      <td>0.0</td>\n",
              "      <td>0.0</td>\n",
              "    </tr>\n",
              "    <tr>\n",
              "      <th>2508222</th>\n",
              "      <td>209256</td>\n",
              "      <td>2021-06-18 09:00:00</td>\n",
              "      <td>TRAM2</td>\n",
              "      <td>R469</td>\n",
              "      <td>00-05-01</td>\n",
              "      <td>RIT-ROOSEVELT</td>\n",
              "      <td>R</td>\n",
              "      <td>RIT</td>\n",
              "      <td>06/18/2021</td>\n",
              "      <td>09:00:00</td>\n",
              "      <td>REGULAR</td>\n",
              "      <td>5554</td>\n",
              "      <td>584</td>\n",
              "      <td>0.0</td>\n",
              "      <td>0.0</td>\n",
              "    </tr>\n",
              "    <tr>\n",
              "      <th>2508223</th>\n",
              "      <td>209257</td>\n",
              "      <td>2021-06-18 13:00:00</td>\n",
              "      <td>TRAM2</td>\n",
              "      <td>R469</td>\n",
              "      <td>00-05-01</td>\n",
              "      <td>RIT-ROOSEVELT</td>\n",
              "      <td>R</td>\n",
              "      <td>RIT</td>\n",
              "      <td>06/18/2021</td>\n",
              "      <td>13:00:00</td>\n",
              "      <td>REGULAR</td>\n",
              "      <td>5554</td>\n",
              "      <td>584</td>\n",
              "      <td>0.0</td>\n",
              "      <td>0.0</td>\n",
              "    </tr>\n",
              "    <tr>\n",
              "      <th>2508224</th>\n",
              "      <td>209258</td>\n",
              "      <td>2021-06-18 17:00:00</td>\n",
              "      <td>TRAM2</td>\n",
              "      <td>R469</td>\n",
              "      <td>00-05-01</td>\n",
              "      <td>RIT-ROOSEVELT</td>\n",
              "      <td>R</td>\n",
              "      <td>RIT</td>\n",
              "      <td>06/18/2021</td>\n",
              "      <td>17:00:00</td>\n",
              "      <td>REGULAR</td>\n",
              "      <td>5554</td>\n",
              "      <td>584</td>\n",
              "      <td>0.0</td>\n",
              "      <td>0.0</td>\n",
              "    </tr>\n",
              "    <tr>\n",
              "      <th>2508225</th>\n",
              "      <td>209259</td>\n",
              "      <td>2021-06-18 21:00:00</td>\n",
              "      <td>TRAM2</td>\n",
              "      <td>R469</td>\n",
              "      <td>00-05-01</td>\n",
              "      <td>RIT-ROOSEVELT</td>\n",
              "      <td>R</td>\n",
              "      <td>RIT</td>\n",
              "      <td>06/18/2021</td>\n",
              "      <td>21:00:00</td>\n",
              "      <td>REGULAR</td>\n",
              "      <td>5554</td>\n",
              "      <td>584</td>\n",
              "      <td>0.0</td>\n",
              "      <td>0.0</td>\n",
              "    </tr>\n",
              "  </tbody>\n",
              "</table>\n",
              "<p>2508226 rows × 15 columns</p>\n",
              "</div>"
            ],
            "text/plain": [
              "          index           DATE_TIME    C/A  ...    EXITS  E_DIFF EX_DIFF\n",
              "0             1 2021-08-28 04:00:00   A002  ...  2609117 -6814.0 -2821.0\n",
              "1             2 2021-08-28 08:00:00   A002  ...  2609135 -7211.0 -2915.0\n",
              "2             3 2021-08-28 12:00:00   A002  ...  2609191 -7509.0 -2931.0\n",
              "3             4 2021-08-28 16:00:00   A002  ...  2609221 -7443.0 -3061.0\n",
              "4             5 2021-08-28 20:00:00   A002  ...  2609238 -7384.0 -3161.0\n",
              "...         ...                 ...    ...  ...      ...     ...     ...\n",
              "2508221  209255 2021-06-18 05:00:00  TRAM2  ...      584     0.0     0.0\n",
              "2508222  209256 2021-06-18 09:00:00  TRAM2  ...      584     0.0     0.0\n",
              "2508223  209257 2021-06-18 13:00:00  TRAM2  ...      584     0.0     0.0\n",
              "2508224  209258 2021-06-18 17:00:00  TRAM2  ...      584     0.0     0.0\n",
              "2508225  209259 2021-06-18 21:00:00  TRAM2  ...      584     0.0     0.0\n",
              "\n",
              "[2508226 rows x 15 columns]"
            ]
          },
          "metadata": {},
          "execution_count": 59
        }
      ]
    },
    {
      "cell_type": "markdown",
      "metadata": {
        "id": "26fbbpmmUYVj"
      },
      "source": [
        "### validating the counts\n",
        "whenever the count is less than 1000 we take the original entries otherwise we take the absolte value of the count"
      ],
      "id": "26fbbpmmUYVj"
    },
    {
      "cell_type": "code",
      "metadata": {
        "id": "g9KtIfcn4GfI"
      },
      "source": [
        "df_stations['E_DIFF'] = (np.where(\n",
        "    ((df_stations.ENTRIES + df_stations.E_DIFF)< -1000),\n",
        "     df_stations.ENTRIES, abs(df_stations.E_DIFF)))\n",
        "\n",
        "df_stations['EX_DIFF'] = (np.where(\n",
        "    ((df_stations.ENTRIES + df_stations.EX_DIFF)< -1000),\n",
        "     df_stations.ENTRIES, abs(df_stations.EX_DIFF)))\n",
        "\n"
      ],
      "id": "g9KtIfcn4GfI",
      "execution_count": 60,
      "outputs": []
    },
    {
      "cell_type": "markdown",
      "metadata": {
        "id": "4XtHh_tHU1b-"
      },
      "source": [
        "### time frames\n",
        "we group all the time stampes under common time frames"
      ],
      "id": "4XtHh_tHU1b-"
    },
    {
      "cell_type": "code",
      "metadata": {
        "id": "t8IZ_sH04JJ9"
      },
      "source": [
        "df_stations['FRAME'] = (np.where((df_stations.DATE_TIME.dt.hour <= 4),4\n",
        "                          ,np.where((df_stations.DATE_TIME.dt.hour <= 8),8\n",
        "                                    ,np.where((df_stations.DATE_TIME.dt.hour <= 12),12\n",
        "                                              ,np.where((df_stations.DATE_TIME.dt.hour <= 16),16\n",
        "                                                        ,np.where((df_stations.DATE_TIME.dt.hour <= 20),20,0))))))\n",
        "\n",
        "\n"
      ],
      "id": "t8IZ_sH04JJ9",
      "execution_count": 61,
      "outputs": []
    },
    {
      "cell_type": "markdown",
      "metadata": {
        "id": "Q6sxkxjBVEDN"
      },
      "source": [
        "### Total count per time frame\n",
        "we calculate the totaly count using the entries and exits count"
      ],
      "id": "Q6sxkxjBVEDN"
    },
    {
      "cell_type": "code",
      "metadata": {
        "id": "Hl9pSm4NyeLU"
      },
      "source": [
        "df_stations['TOTAL'] = abs(df_stations.E_DIFF + df_stations.EX_DIFF)"
      ],
      "id": "Hl9pSm4NyeLU",
      "execution_count": 62,
      "outputs": []
    },
    {
      "cell_type": "markdown",
      "metadata": {
        "id": "oXKIX4PGVVga"
      },
      "source": [
        "### Total traffic per station\n",
        "grouping all rows under their station allows to get the total traffic for the station"
      ],
      "id": "oXKIX4PGVVga"
    },
    {
      "cell_type": "code",
      "metadata": {
        "id": "_SlaWtIe4MQy"
      },
      "source": [
        "\n",
        "df_stations = df_stations.groupby(['STATION']).TOTAL.sum().reset_index()\n",
        "df_stations.sort_values(by=['TOTAL'],inplace=True,ascending=False)"
      ],
      "id": "_SlaWtIe4MQy",
      "execution_count": 63,
      "outputs": []
    },
    {
      "cell_type": "markdown",
      "metadata": {
        "id": "PsdPzQndVorZ"
      },
      "source": [
        "### finding outliers"
      ],
      "id": "PsdPzQndVorZ"
    },
    {
      "cell_type": "code",
      "metadata": {
        "id": "9joU3d8f2fBP",
        "colab": {
          "base_uri": "https://localhost:8080/",
          "height": 297
        },
        "outputId": "5a26cb19-b9d5-4f93-f846-a5b199e158aa"
      },
      "source": [
        "\n",
        "sns.boxplot(data = df_stations.sort_values(['TOTAL'],ascending = False),x =df_stations.sort_values(['TOTAL'],ascending = False).TOTAL)"
      ],
      "id": "9joU3d8f2fBP",
      "execution_count": null,
      "outputs": [
        {
          "output_type": "execute_result",
          "data": {
            "text/plain": [
              "<matplotlib.axes._subplots.AxesSubplot at 0x7f3d7de753d0>"
            ]
          },
          "metadata": {},
          "execution_count": 105
        },
        {
          "output_type": "display_data",
          "data": {
            "image/png": "[encoded data removed]",
            "text/plain": [
              "<Figure size 432x288 with 1 Axes>"
            ]
          },
          "metadata": {
            "needs_background": "light"
          }
        }
      ]
    },
    {
      "cell_type": "markdown",
      "metadata": {
        "id": "YkTHLVIdVsHl"
      },
      "source": [
        "taking the subset without the outliers"
      ],
      "id": "YkTHLVIdVsHl"
    },
    {
      "cell_type": "code",
      "metadata": {
        "id": "LuKEwONh4dU1",
        "colab": {
          "base_uri": "https://localhost:8080/",
          "height": 435
        },
        "outputId": "b89ac190-7e01-42c6-fe8e-d266f25b3601"
      },
      "source": [
        "clean = df_stations[np.abs(df_stations.TOTAL-df_stations.TOTAL.std()) <= (0.7*df_stations.TOTAL.std())]\n",
        "\n",
        "\n",
        "sns.boxplot(data = clean.sort_values(['TOTAL'],ascending = False),x =clean.sort_values(['TOTAL'],ascending = False).TOTAL)\n",
        "df_stations.TOTAL.describe()"
      ],
      "id": "LuKEwONh4dU1",
      "execution_count": 166,
      "outputs": [
        {
          "output_type": "execute_result",
          "data": {
            "text/plain": [
              "count    3.790000e+02\n",
              "mean     5.939993e+07\n",
              "std      3.213999e+08\n",
              "min      3.002830e+05\n",
              "25%      1.068886e+06\n",
              "50%      1.982014e+06\n",
              "75%      4.729818e+06\n",
              "max      3.319777e+09\n",
              "Name: TOTAL, dtype: float64"
            ]
          },
          "metadata": {},
          "execution_count": 166
        },
        {
          "output_type": "display_data",
          "data": {
            "image/png": "[encoded data removed]",
            "text/plain": [
              "<Figure size 432x288 with 1 Axes>"
            ]
          },
          "metadata": {
            "needs_background": "light"
          }
        }
      ]
    },
    {
      "cell_type": "code",
      "metadata": {
        "colab": {
          "base_uri": "https://localhost:8080/",
          "height": 300
        },
        "id": "eUe-g18J-UxF",
        "outputId": "c5854957-0280-4cba-db8e-f821cc80d4ca"
      },
      "source": [
        "clean"
      ],
      "id": "eUe-g18J-UxF",
      "execution_count": 167,
      "outputs": [
        {
          "output_type": "execute_result",
          "data": {
            "text/html": [
              "<div>\n",
              "<style scoped>\n",
              "    .dataframe tbody tr th:only-of-type {\n",
              "        vertical-align: middle;\n",
              "    }\n",
              "\n",
              "    .dataframe tbody tr th {\n",
              "        vertical-align: top;\n",
              "    }\n",
              "\n",
              "    .dataframe thead th {\n",
              "        text-align: right;\n",
              "    }\n",
              "</style>\n",
              "<table border=\"1\" class=\"dataframe\">\n",
              "  <thead>\n",
              "    <tr style=\"text-align: right;\">\n",
              "      <th></th>\n",
              "      <th>STATION</th>\n",
              "      <th>TOTAL</th>\n",
              "    </tr>\n",
              "  </thead>\n",
              "  <tbody>\n",
              "    <tr>\n",
              "      <th>264</th>\n",
              "      <td>KINGSTON AV</td>\n",
              "      <td>540501943.0</td>\n",
              "    </tr>\n",
              "    <tr>\n",
              "      <th>236</th>\n",
              "      <td>GUN HILL RD</td>\n",
              "      <td>438557875.0</td>\n",
              "    </tr>\n",
              "    <tr>\n",
              "      <th>26</th>\n",
              "      <td>170 ST</td>\n",
              "      <td>307609660.0</td>\n",
              "    </tr>\n",
              "    <tr>\n",
              "      <th>201</th>\n",
              "      <td>DITMAS AV</td>\n",
              "      <td>185327937.0</td>\n",
              "    </tr>\n",
              "    <tr>\n",
              "      <th>340</th>\n",
              "      <td>SMITH-9 ST</td>\n",
              "      <td>185074917.0</td>\n",
              "    </tr>\n",
              "    <tr>\n",
              "      <th>61</th>\n",
              "      <td>34 ST-PENN STA</td>\n",
              "      <td>136987099.0</td>\n",
              "    </tr>\n",
              "    <tr>\n",
              "      <th>364</th>\n",
              "      <td>W 8 ST-AQUARIUM</td>\n",
              "      <td>135487073.0</td>\n",
              "    </tr>\n",
              "    <tr>\n",
              "      <th>78</th>\n",
              "      <td>50 ST</td>\n",
              "      <td>123712116.0</td>\n",
              "    </tr>\n",
              "  </tbody>\n",
              "</table>\n",
              "</div>"
            ],
            "text/plain": [
              "             STATION        TOTAL\n",
              "264      KINGSTON AV  540501943.0\n",
              "236      GUN HILL RD  438557875.0\n",
              "26            170 ST  307609660.0\n",
              "201        DITMAS AV  185327937.0\n",
              "340       SMITH-9 ST  185074917.0\n",
              "61    34 ST-PENN STA  136987099.0\n",
              "364  W 8 ST-AQUARIUM  135487073.0\n",
              "78             50 ST  123712116.0"
            ]
          },
          "metadata": {},
          "execution_count": 167
        }
      ]
    },
    {
      "cell_type": "markdown",
      "metadata": {
        "id": "pNHEcoDRV6H4"
      },
      "source": [
        "### Traffic per sation"
      ],
      "id": "pNHEcoDRV6H4"
    },
    {
      "cell_type": "code",
      "metadata": {
        "colab": {
          "base_uri": "https://localhost:8080/",
          "height": 525
        },
        "id": "08x89r4B2Q9c",
        "outputId": "7555e1de-8ec2-4535-9d15-748456bac2ad"
      },
      "source": [
        "chart = sns.barplot(x=clean.STATION.head(10),y=clean.TOTAL.head(10))\n",
        "chart.set_xticklabels(chart.get_xticklabels(), rotation=45)"
      ],
      "id": "08x89r4B2Q9c",
      "execution_count": 159,
      "outputs": [
        {
          "output_type": "execute_result",
          "data": {
            "text/plain": [
              "[Text(0, 0, 'ATL AV-BARCLAY'),\n",
              " Text(0, 0, 'KINGSTON AV'),\n",
              " Text(0, 0, 'GUN HILL RD'),\n",
              " Text(0, 0, '170 ST'),\n",
              " Text(0, 0, 'DITMAS AV'),\n",
              " Text(0, 0, 'SMITH-9 ST'),\n",
              " Text(0, 0, '34 ST-PENN STA'),\n",
              " Text(0, 0, 'W 8 ST-AQUARIUM'),\n",
              " Text(0, 0, '50 ST'),\n",
              " Text(0, 0, 'JKSN HT-ROOSVLT')]"
            ]
          },
          "metadata": {},
          "execution_count": 159
        },
        {
          "output_type": "display_data",
          "data": {
            "image/png": "[encoded data removed]",
            "text/plain": [
              "<Figure size 432x288 with 1 Axes>"
            ]
          },
          "metadata": {
            "needs_background": "light"
          }
        }
      ]
    },
    {
      "cell_type": "markdown",
      "metadata": {
        "id": "H101VX8PWAL5"
      },
      "source": [
        "### annalyize a given station\n",
        "a function that will get what we need for each station and graph it"
      ],
      "id": "H101VX8PWAL5"
    },
    {
      "cell_type": "code",
      "metadata": {
        "id": "pd37o0XVzy_t"
      },
      "source": [
        "def get_station(name):\n",
        "  \n",
        "  station = df[df.STATION == name].sort_values(\"DATE_TIME\", ascending=False).reset_index(drop=True).copy(deep = True)\n",
        "\n",
        "\n",
        "  station['E_DIFF'] = (station\n",
        "                      .groupby(by=['C/A',\t'UNIT',\t'SCP','LINENAME',\t'DIVISION'])\n",
        "                      .ENTRIES.diff()\n",
        "                      .reset_index(drop=True)\n",
        "                      .to_list())\n",
        "  station['EX_DIFF'] = (station\n",
        "                      .groupby(by=['C/A',\t'UNIT',\t'SCP','LINENAME',\t'DIVISION'])\n",
        "                      .EXITS.diff()\n",
        "                      .reset_index(drop=True)\n",
        "                      .to_list())\n",
        "  station.dropna(subset = ['ENTRIES','E_DIFF','EX_DIFF'],inplace = True)\n",
        "\n",
        "  station['E_DIFF'] = np.where(((station.ENTRIES + station.E_DIFF)< -8000), station.ENTRIES, abs(station.E_DIFF))\n",
        "  station['EX_DIFF'] = np.where(((station.ENTRIES + station.EX_DIFF)< -8000), station.ENTRIES, abs(station.EX_DIFF))\n",
        "\n",
        "  station['FRAME'] = (np.where((station.DATE_TIME.dt.hour <= 4),4\n",
        "                            ,np.where((station.DATE_TIME.dt.hour <= 8),8\n",
        "                                      ,np.where((station.DATE_TIME.dt.hour <= 12),12\n",
        "                                                ,np.where((station.DATE_TIME.dt.hour <= 16),16\n",
        "                                                          ,np.where((station.DATE_TIME.dt.hour <= 20),20,0))))))\n",
        "  station['TOTAL'] = abs(station.E_DIFF + station.EX_DIFF)\n",
        "  station=station.groupby(by = ['FRAME'],as_index=False)[['E_DIFF','EX_DIFF','TOTAL']].sum().reset_index(drop=True)\n",
        "\n",
        "\n",
        "  sns.barplot(x= station.FRAME, y = station.TOTAL)"
      ],
      "id": "pd37o0XVzy_t",
      "execution_count": 140,
      "outputs": []
    },
    {
      "cell_type": "code",
      "metadata": {
        "id": "EdIi4pvK0qFx"
      },
      "source": [
        "stations = ['GUN HILL RD','50 ST','DITMAS AV']"
      ],
      "id": "EdIi4pvK0qFx",
      "execution_count": 172,
      "outputs": []
    },
    {
      "cell_type": "code",
      "metadata": {
        "colab": {
          "base_uri": "https://localhost:8080/",
          "height": 279
        },
        "id": "C4A6wHsS8gY9",
        "outputId": "ec6aeda0-c903-4bdd-8f2b-248f90d7db1c"
      },
      "source": [
        "get_station(stations[0])\n"
      ],
      "id": "C4A6wHsS8gY9",
      "execution_count": 173,
      "outputs": [
        {
          "output_type": "display_data",
          "data": {
            "image/png": "[encoded data removed]",
            "text/plain": [
              "<Figure size 432x288 with 1 Axes>"
            ]
          },
          "metadata": {
            "needs_background": "light"
          }
        }
      ]
    },
    {
      "cell_type": "code",
      "metadata": {
        "colab": {
          "base_uri": "https://localhost:8080/",
          "height": 279
        },
        "id": "DCngj9Mv9HaQ",
        "outputId": "5ae88bd2-f138-4e75-f400-4829444c48a9"
      },
      "source": [
        "get_station(stations[1])\n"
      ],
      "id": "DCngj9Mv9HaQ",
      "execution_count": 174,
      "outputs": [
        {
          "output_type": "display_data",
          "data": {
            "image/png": "[encoded data removed]",
            "text/plain": [
              "<Figure size 432x288 with 1 Axes>"
            ]
          },
          "metadata": {
            "needs_background": "light"
          }
        }
      ]
    },
    {
      "cell_type": "code",
      "metadata": {
        "colab": {
          "base_uri": "https://localhost:8080/",
          "height": 279
        },
        "id": "Jg8b83t8_3Xx",
        "outputId": "8799c2ab-e444-44d1-b70b-440b323bc56c"
      },
      "source": [
        "get_station(stations[2])\n"
      ],
      "id": "Jg8b83t8_3Xx",
      "execution_count": 175,
      "outputs": [
        {
          "output_type": "display_data",
          "data": {
            "image/png": "[encoded data removed]",
            "text/plain": [
              "<Figure size 432x288 with 1 Axes>"
            ]
          },
          "metadata": {
            "needs_background": "light"
          }
        }
      ]
    }
  ]
}