{
  "nbformat": 4,
  "nbformat_minor": 5,
  "metadata": {
    "kernelspec": {
      "display_name": "Python 3 (ipykernel)",
      "language": "python",
      "name": "python3"
    },
    "language_info": {
      "codemirror_mode": {
        "name": "ipython",
        "version": 3
      },
      "file_extension": ".py",
      "mimetype": "text/x-python",
      "name": "python",
      "nbconvert_exporter": "python",
      "pygments_lexer": "ipython3",
      "version": "3.9.4"
    },
    "colab": {
      "name": "MTA_Data_Analysis.ipynb",
      "provenance": [],
      "collapsed_sections": []
    }
  },
  "cells": [
    {
      "cell_type": "code",
      "metadata": {
        "id": "9dd04a5b"
      },
      "source": [
        "import  requests\n",
        "from bs4 import BeautifulSoup\n",
        "import pandas as pd\n",
        "import numpy as np\n",
        "import seaborn as sns\n",
        "import matplotlib.pyplot as plt"
      ],
      "id": "9dd04a5b",
      "execution_count": 2,
      "outputs": []
    },
    {
      "cell_type": "markdown",
      "metadata": {
        "id": "7ef31e26"
      },
      "source": [
        "# MTA Turnstile Data Analysis"
      ],
      "id": "7ef31e26"
    },
    {
      "cell_type": "markdown",
      "metadata": {
        "id": "696ebb33"
      },
      "source": [
        "### 1. Define the route and location of the data"
      ],
      "id": "696ebb33"
    },
    {
      "cell_type": "code",
      "metadata": {
        "id": "cdd7ea47"
      },
      "source": [
        "#Location of the data\n",
        "url = 'http://web.mta.info/developers/turnstile.html'\n",
        "#relative path of the data\n",
        "#will be formated as http://web.mta.info/developers/data/nyct/turnstile/[file name].txt\n",
        "route = 'data/nyct/turnstile/'"
      ],
      "id": "cdd7ea47",
      "execution_count": 3,
      "outputs": []
    },
    {
      "cell_type": "markdown",
      "metadata": {
        "id": "d58bb209"
      },
      "source": [
        "## 2. Access location, get and parse html content "
      ],
      "id": "d58bb209"
    },
    {
      "cell_type": "code",
      "metadata": {
        "id": "cc69e6fc"
      },
      "source": [
        "#perform a get request on the url\n",
        "page = requests.get(url)\n",
        "#parse its html to query and access the page elements\n",
        "content = BeautifulSoup(page.content, \"html.parser\")\n",
        "\n",
        "#query all 'a' element \n",
        "links = content.find_all('a')"
      ],
      "id": "cc69e6fc",
      "execution_count": 4,
      "outputs": []
    },
    {
      "cell_type": "markdown",
      "metadata": {
        "id": "61d1ab79"
      },
      "source": [
        "## 3. Extrct relevant links"
      ],
      "id": "61d1ab79"
    },
    {
      "cell_type": "code",
      "metadata": {
        "colab": {
          "base_uri": "https://localhost:8080/"
        },
        "id": "610e373a",
        "outputId": "db9d9f83-36f4-4784-dbaa-945b58eeeb97"
      },
      "source": [
        "data_links = []\n",
        "for link in links:\n",
        "    #try accessing the href attribute of the tag, otherwise continue since it doesn't have one\n",
        "    try:\n",
        "        #if file is stored in the rout 'data/nyct/turnstile/' then we will save it, else continue\n",
        "        if route in link['href']:\n",
        "            data_links.append(\"http://web.mta.info/developers/\" + link[\"href\"])\n",
        "        else:\n",
        "            continue\n",
        "    except KeyError:\n",
        "        continue\n",
        "print(len(data_links))#->591"
      ],
      "id": "610e373a",
      "execution_count": 5,
      "outputs": [
        {
          "output_type": "stream",
          "name": "stdout",
          "text": [
            "592\n"
          ]
        }
      ]
    },
    {
      "cell_type": "markdown",
      "metadata": {
        "id": "ce16de92"
      },
      "source": [
        "## 4. Load data, create dataframe"
      ],
      "id": "ce16de92"
    },
    {
      "cell_type": "code",
      "metadata": {
        "id": "1a5e26aa"
      },
      "source": [
        "#load and read data \n",
        "#combine all data into a single dataframe\n",
        "df = pd.concat([pd.read_csv(link,parse_dates=[['DATE','TIME']], keep_date_col=True) for link in data_links[0:12]])"
      ],
      "id": "1a5e26aa",
      "execution_count": 6,
      "outputs": []
    },
    {
      "cell_type": "code",
      "metadata": {
        "id": "b95ef585"
      },
      "source": [
        "del BeautifulSoup, content, data_links, link, links, page, requests,route, url"
      ],
      "id": "b95ef585",
      "execution_count": 7,
      "outputs": []
    },
    {
      "cell_type": "code",
      "metadata": {
        "colab": {
          "base_uri": "https://localhost:8080/"
        },
        "id": "ee54a2c8",
        "outputId": "36cbf432-adfa-48c3-aa29-b26e09c80b11"
      },
      "source": [
        "\n",
        "%whos"
      ],
      "id": "ee54a2c8",
      "execution_count": 8,
      "outputs": [
        {
          "output_type": "stream",
          "name": "stdout",
          "text": [
            "Variable   Type         Data/Info\n",
            "---------------------------------\n",
            "df         DataFrame                     DATE_TIM<...>513308 rows x 12 columns]\n",
            "np         module       <module 'numpy' from '/us<...>kages/numpy/__init__.py'>\n",
            "pd         module       <module 'pandas' from '/u<...>ages/pandas/__init__.py'>\n",
            "plt        module       <module 'matplotlib.pyplo<...>es/matplotlib/pyplot.py'>\n",
            "sns        module       <module 'seaborn' from '/<...>ges/seaborn/__init__.py'>\n"
          ]
        }
      ]
    },
    {
      "cell_type": "markdown",
      "metadata": {
        "id": "33395602"
      },
      "source": [
        "## 5. Preview data"
      ],
      "id": "33395602"
    },
    {
      "cell_type": "code",
      "metadata": {
        "colab": {
          "base_uri": "https://localhost:8080/"
        },
        "id": "20b3e2a1",
        "outputId": "bdb4e5cb-38ab-426d-b836-5c254012774f"
      },
      "source": [
        "print(df.columns)"
      ],
      "id": "20b3e2a1",
      "execution_count": 9,
      "outputs": [
        {
          "output_type": "stream",
          "name": "stdout",
          "text": [
            "Index(['DATE_TIME', 'C/A', 'UNIT', 'SCP', 'STATION', 'LINENAME', 'DIVISION',\n",
            "       'DATE', 'TIME', 'DESC', 'ENTRIES',\n",
            "       'EXITS                                                               '],\n",
            "      dtype='object')\n"
          ]
        }
      ]
    },
    {
      "cell_type": "code",
      "metadata": {
        "scrolled": false,
        "colab": {
          "base_uri": "https://localhost:8080/"
        },
        "id": "d6a9cae1",
        "outputId": "4b77eab9-5acf-40ed-b2c7-62e066406077"
      },
      "source": [
        "#remove white space in last column \n",
        "df.rename(columns = {df.columns[-1]:df.columns[-1].strip()},inplace = True)\n",
        "print(df.columns)"
      ],
      "id": "d6a9cae1",
      "execution_count": 10,
      "outputs": [
        {
          "output_type": "stream",
          "name": "stdout",
          "text": [
            "Index(['DATE_TIME', 'C/A', 'UNIT', 'SCP', 'STATION', 'LINENAME', 'DIVISION',\n",
            "       'DATE', 'TIME', 'DESC', 'ENTRIES', 'EXITS'],\n",
            "      dtype='object')\n"
          ]
        }
      ]
    },
    {
      "cell_type": "code",
      "metadata": {
        "colab": {
          "base_uri": "https://localhost:8080/",
          "height": 423
        },
        "id": "0df77d31",
        "outputId": "0478211d-9e5a-4da0-d7d7-e51921caa7ca"
      },
      "source": [
        "df"
      ],
      "id": "0df77d31",
      "execution_count": 11,
      "outputs": [
        {
          "output_type": "execute_result",
          "data": {
            "text/html": [
              "<div>\n",
              "<style scoped>\n",
              "    .dataframe tbody tr th:only-of-type {\n",
              "        vertical-align: middle;\n",
              "    }\n",
              "\n",
              "    .dataframe tbody tr th {\n",
              "        vertical-align: top;\n",
              "    }\n",
              "\n",
              "    .dataframe thead th {\n",
              "        text-align: right;\n",
              "    }\n",
              "</style>\n",
              "<table border=\"1\" class=\"dataframe\">\n",
              "  <thead>\n",
              "    <tr style=\"text-align: right;\">\n",
              "      <th></th>\n",
              "      <th>DATE_TIME</th>\n",
              "      <th>C/A</th>\n",
              "      <th>UNIT</th>\n",
              "      <th>SCP</th>\n",
              "      <th>STATION</th>\n",
              "      <th>LINENAME</th>\n",
              "      <th>DIVISION</th>\n",
              "      <th>DATE</th>\n",
              "      <th>TIME</th>\n",
              "      <th>DESC</th>\n",
              "      <th>ENTRIES</th>\n",
              "      <th>EXITS</th>\n",
              "    </tr>\n",
              "  </thead>\n",
              "  <tbody>\n",
              "    <tr>\n",
              "      <th>0</th>\n",
              "      <td>2021-08-28 00:00:00</td>\n",
              "      <td>A002</td>\n",
              "      <td>R051</td>\n",
              "      <td>02-00-00</td>\n",
              "      <td>59 ST</td>\n",
              "      <td>NQR456W</td>\n",
              "      <td>BMT</td>\n",
              "      <td>08/28/2021</td>\n",
              "      <td>00:00:00</td>\n",
              "      <td>REGULAR</td>\n",
              "      <td>7625998</td>\n",
              "      <td>2609113</td>\n",
              "    </tr>\n",
              "    <tr>\n",
              "      <th>1</th>\n",
              "      <td>2021-08-28 04:00:00</td>\n",
              "      <td>A002</td>\n",
              "      <td>R051</td>\n",
              "      <td>02-00-00</td>\n",
              "      <td>59 ST</td>\n",
              "      <td>NQR456W</td>\n",
              "      <td>BMT</td>\n",
              "      <td>08/28/2021</td>\n",
              "      <td>04:00:00</td>\n",
              "      <td>REGULAR</td>\n",
              "      <td>7626014</td>\n",
              "      <td>2609117</td>\n",
              "    </tr>\n",
              "    <tr>\n",
              "      <th>2</th>\n",
              "      <td>2021-08-28 08:00:00</td>\n",
              "      <td>A002</td>\n",
              "      <td>R051</td>\n",
              "      <td>02-00-00</td>\n",
              "      <td>59 ST</td>\n",
              "      <td>NQR456W</td>\n",
              "      <td>BMT</td>\n",
              "      <td>08/28/2021</td>\n",
              "      <td>08:00:00</td>\n",
              "      <td>REGULAR</td>\n",
              "      <td>7626024</td>\n",
              "      <td>2609135</td>\n",
              "    </tr>\n",
              "    <tr>\n",
              "      <th>3</th>\n",
              "      <td>2021-08-28 12:00:00</td>\n",
              "      <td>A002</td>\n",
              "      <td>R051</td>\n",
              "      <td>02-00-00</td>\n",
              "      <td>59 ST</td>\n",
              "      <td>NQR456W</td>\n",
              "      <td>BMT</td>\n",
              "      <td>08/28/2021</td>\n",
              "      <td>12:00:00</td>\n",
              "      <td>REGULAR</td>\n",
              "      <td>7626086</td>\n",
              "      <td>2609191</td>\n",
              "    </tr>\n",
              "    <tr>\n",
              "      <th>4</th>\n",
              "      <td>2021-08-28 16:00:00</td>\n",
              "      <td>A002</td>\n",
              "      <td>R051</td>\n",
              "      <td>02-00-00</td>\n",
              "      <td>59 ST</td>\n",
              "      <td>NQR456W</td>\n",
              "      <td>BMT</td>\n",
              "      <td>08/28/2021</td>\n",
              "      <td>16:00:00</td>\n",
              "      <td>REGULAR</td>\n",
              "      <td>7626206</td>\n",
              "      <td>2609221</td>\n",
              "    </tr>\n",
              "    <tr>\n",
              "      <th>...</th>\n",
              "      <td>...</td>\n",
              "      <td>...</td>\n",
              "      <td>...</td>\n",
              "      <td>...</td>\n",
              "      <td>...</td>\n",
              "      <td>...</td>\n",
              "      <td>...</td>\n",
              "      <td>...</td>\n",
              "      <td>...</td>\n",
              "      <td>...</td>\n",
              "      <td>...</td>\n",
              "      <td>...</td>\n",
              "    </tr>\n",
              "    <tr>\n",
              "      <th>209255</th>\n",
              "      <td>2021-06-18 05:00:00</td>\n",
              "      <td>TRAM2</td>\n",
              "      <td>R469</td>\n",
              "      <td>00-05-01</td>\n",
              "      <td>RIT-ROOSEVELT</td>\n",
              "      <td>R</td>\n",
              "      <td>RIT</td>\n",
              "      <td>06/18/2021</td>\n",
              "      <td>05:00:00</td>\n",
              "      <td>REGULAR</td>\n",
              "      <td>5554</td>\n",
              "      <td>584</td>\n",
              "    </tr>\n",
              "    <tr>\n",
              "      <th>209256</th>\n",
              "      <td>2021-06-18 09:00:00</td>\n",
              "      <td>TRAM2</td>\n",
              "      <td>R469</td>\n",
              "      <td>00-05-01</td>\n",
              "      <td>RIT-ROOSEVELT</td>\n",
              "      <td>R</td>\n",
              "      <td>RIT</td>\n",
              "      <td>06/18/2021</td>\n",
              "      <td>09:00:00</td>\n",
              "      <td>REGULAR</td>\n",
              "      <td>5554</td>\n",
              "      <td>584</td>\n",
              "    </tr>\n",
              "    <tr>\n",
              "      <th>209257</th>\n",
              "      <td>2021-06-18 13:00:00</td>\n",
              "      <td>TRAM2</td>\n",
              "      <td>R469</td>\n",
              "      <td>00-05-01</td>\n",
              "      <td>RIT-ROOSEVELT</td>\n",
              "      <td>R</td>\n",
              "      <td>RIT</td>\n",
              "      <td>06/18/2021</td>\n",
              "      <td>13:00:00</td>\n",
              "      <td>REGULAR</td>\n",
              "      <td>5554</td>\n",
              "      <td>584</td>\n",
              "    </tr>\n",
              "    <tr>\n",
              "      <th>209258</th>\n",
              "      <td>2021-06-18 17:00:00</td>\n",
              "      <td>TRAM2</td>\n",
              "      <td>R469</td>\n",
              "      <td>00-05-01</td>\n",
              "      <td>RIT-ROOSEVELT</td>\n",
              "      <td>R</td>\n",
              "      <td>RIT</td>\n",
              "      <td>06/18/2021</td>\n",
              "      <td>17:00:00</td>\n",
              "      <td>REGULAR</td>\n",
              "      <td>5554</td>\n",
              "      <td>584</td>\n",
              "    </tr>\n",
              "    <tr>\n",
              "      <th>209259</th>\n",
              "      <td>2021-06-18 21:00:00</td>\n",
              "      <td>TRAM2</td>\n",
              "      <td>R469</td>\n",
              "      <td>00-05-01</td>\n",
              "      <td>RIT-ROOSEVELT</td>\n",
              "      <td>R</td>\n",
              "      <td>RIT</td>\n",
              "      <td>06/18/2021</td>\n",
              "      <td>21:00:00</td>\n",
              "      <td>REGULAR</td>\n",
              "      <td>5554</td>\n",
              "      <td>584</td>\n",
              "    </tr>\n",
              "  </tbody>\n",
              "</table>\n",
              "<p>2513308 rows × 12 columns</p>\n",
              "</div>"
            ],
            "text/plain": [
              "                 DATE_TIME    C/A  UNIT  ...     DESC  ENTRIES    EXITS\n",
              "0      2021-08-28 00:00:00   A002  R051  ...  REGULAR  7625998  2609113\n",
              "1      2021-08-28 04:00:00   A002  R051  ...  REGULAR  7626014  2609117\n",
              "2      2021-08-28 08:00:00   A002  R051  ...  REGULAR  7626024  2609135\n",
              "3      2021-08-28 12:00:00   A002  R051  ...  REGULAR  7626086  2609191\n",
              "4      2021-08-28 16:00:00   A002  R051  ...  REGULAR  7626206  2609221\n",
              "...                    ...    ...   ...  ...      ...      ...      ...\n",
              "209255 2021-06-18 05:00:00  TRAM2  R469  ...  REGULAR     5554      584\n",
              "209256 2021-06-18 09:00:00  TRAM2  R469  ...  REGULAR     5554      584\n",
              "209257 2021-06-18 13:00:00  TRAM2  R469  ...  REGULAR     5554      584\n",
              "209258 2021-06-18 17:00:00  TRAM2  R469  ...  REGULAR     5554      584\n",
              "209259 2021-06-18 21:00:00  TRAM2  R469  ...  REGULAR     5554      584\n",
              "\n",
              "[2513308 rows x 12 columns]"
            ]
          },
          "metadata": {},
          "execution_count": 11
        }
      ]
    },
    {
      "cell_type": "code",
      "metadata": {
        "colab": {
          "base_uri": "https://localhost:8080/",
          "height": 265
        },
        "id": "DF90d7OXAX4e",
        "outputId": "96437239-de03-4460-eee8-1db9033adadb"
      },
      "source": [
        "f = len(((df.groupby(['C/A',\t'UNIT',\t'SCP','LINENAME',\t'DIVISION','STATION','DATE_TIME']).ENTRIES.count())>1).reset_index().ENTRIES == 'False')\n",
        "t = len(((df.groupby(['C/A',\t'UNIT',\t'SCP','LINENAME',\t'DIVISION','STATION','DATE_TIME']).ENTRIES.count())>1).reset_index().ENTRIES == 'True')\n",
        "plt.pie([f,t])\n",
        "f,t"
      ],
      "id": "DF90d7OXAX4e",
      "execution_count": 24,
      "outputs": [
        {
          "output_type": "execute_result",
          "data": {
            "text/plain": [
              "(2513255, 2513255)"
            ]
          },
          "metadata": {},
          "execution_count": 24
        },
        {
          "output_type": "display_data",
          "data": {
            "image/png": "[encoded data removed]",
            "text/plain": [
              "<Figure size 432x288 with 1 Axes>"
            ]
          },
          "metadata": {}
        }
      ]
    },
    {
      "cell_type": "code",
      "metadata": {
        "id": "egCKn-6m0EVt",
        "outputId": "0b6516e5-b98d-40e1-8519-955fd4ca8c3f",
        "colab": {
          "base_uri": "https://localhost:8080/"
        }
      },
      "source": [
        "(((df.groupby(['C/A',\t'UNIT',\t'SCP','LINENAME',\t'DIVISION','STATION','DATE_TIME']).ENTRIES.count())>1).value_counts().reset_index()).index == False"
      ],
      "id": "egCKn-6m0EVt",
      "execution_count": 31,
      "outputs": [
        {
          "output_type": "execute_result",
          "data": {
            "text/plain": [
              "array([ True, False])"
            ]
          },
          "metadata": {},
          "execution_count": 31
        }
      ]
    },
    {
      "cell_type": "code",
      "metadata": {
        "id": "UY5AcCss02EO"
      },
      "source": [
        ""
      ],
      "id": "UY5AcCss02EO",
      "execution_count": null,
      "outputs": []
    },
    {
      "cell_type": "markdown",
      "metadata": {
        "id": "a3cff34f"
      },
      "source": [
        "## 6. Data cleaning and preperation"
      ],
      "id": "a3cff34f"
    },
    {
      "cell_type": "code",
      "metadata": {
        "id": "cJFCL2HYrRdh",
        "outputId": "187daa93-28bd-487b-c225-c2bdd968f0f7",
        "colab": {
          "base_uri": "https://localhost:8080/"
        }
      },
      "source": [
        "\n",
        "roos = df[df.STATION == 'RIT-ROOSEVELT'].sort_values(\"DATE_TIME\", ascending=False).reset_index(drop=True).copy(deep = True)\n",
        "(roos.groupby(['C/A',\t'UNIT',\t'SCP','LINENAME',\t'DIVISION','DATE_TIME']).ENTRIES.count()>1).value_counts()"
      ],
      "id": "cJFCL2HYrRdh",
      "execution_count": 135,
      "outputs": [
        {
          "output_type": "execute_result",
          "data": {
            "text/plain": [
              "False    3061\n",
              "Name: ENTRIES, dtype: int64"
            ]
          },
          "metadata": {},
          "execution_count": 135
        }
      ]
    },
    {
      "cell_type": "code",
      "metadata": {
        "id": "rHCPkvlhb4NT",
        "outputId": "6b052384-3747-4477-f333-3735368df282",
        "colab": {
          "base_uri": "https://localhost:8080/"
        }
      },
      "source": [
        "\n",
        "roos['E_DIFF'] = roos.groupby(by=['C/A',\t'UNIT',\t'SCP','LINENAME',\t'DIVISION']).ENTRIES.diff().reset_index(drop=True).to_list()\n",
        "roos['EX_DIFF'] = roos.groupby(by=['C/A',\t'UNIT',\t'SCP','LINENAME',\t'DIVISION']).EXITS.diff().reset_index(drop=True).to_list()\n",
        "roos.dropna(subset = ['ENTRIES','E_DIFF','EX_DIFF'],inplace = True)\n",
        "roos['E_DIFF'] = np.where(((roos.ENTRIES + roos.E_DIFF)< -8000), roos.ENTRIES, abs(roos.E_DIFF))\n",
        "roos['EX_DIFF'] = np.where(((roos.ENTRIES + roos.EX_DIFF)< -8000), roos.ENTRIES, abs(roos.EX_DIFF))\n",
        "roos['FRAME'] = (np.where((roos.DATE_TIME.dt.hour <= 4),4\n",
        "                          ,np.where((roos.DATE_TIME.dt.hour <= 8),8\n",
        "                                    ,np.where((roos.DATE_TIME.dt.hour <= 12),12\n",
        "                                              ,np.where((roos.DATE_TIME.dt.hour <= 16),16\n",
        "                                                        ,np.where((roos.DATE_TIME.dt.hour <= 20),20,0))))))\n",
        "roos['TOTAL'] = abs(roos.E_DIFF - roos.EX_DIFF)\n",
        "roos_grouped = roos.groupby(by = ['DATE','FRAME'])[['E_DIFF','EX_DIFF','TOTAL']].sum().reset_index(drop=True)\n"
      ],
      "id": "rHCPkvlhb4NT",
      "execution_count": 118,
      "outputs": [
        {
          "output_type": "execute_result",
          "data": {
            "text/plain": [
              "False    496\n",
              "Name: TOTAL, dtype: int64"
            ]
          },
          "metadata": {},
          "execution_count": 118
        }
      ]
    },
    {
      "cell_type": "code",
      "metadata": {
        "id": "eNGQonunuCLZ"
      },
      "source": [
        ""
      ],
      "id": "eNGQonunuCLZ",
      "execution_count": null,
      "outputs": []
    },
    {
      "cell_type": "code",
      "metadata": {
        "id": "IU-c3Y6wlEXV"
      },
      "source": [
        ""
      ],
      "id": "IU-c3Y6wlEXV",
      "execution_count": null,
      "outputs": []
    },
    {
      "cell_type": "code",
      "metadata": {
        "id": "J_5Dm2uqk7G2"
      },
      "source": [
        ""
      ],
      "id": "J_5Dm2uqk7G2",
      "execution_count": null,
      "outputs": []
    },
    {
      "cell_type": "code",
      "metadata": {
        "id": "e27oN9FioUHe",
        "outputId": "fe13f75a-79b7-43cc-9059-bf66290ab9d0",
        "colab": {
          "base_uri": "https://localhost:8080/",
          "height": 423
        }
      },
      "source": [
        "FFday_mask = (roos_grouped.FRAME == 8) |  (roos_grouped.FRAME == 12) | (roos_grouped.FRAME == 16)\n",
        "roos_grouped[day_mask]"
      ],
      "id": "e27oN9FioUHe",
      "execution_count": 28,
      "outputs": [
        {
          "output_type": "execute_result",
          "data": {
            "text/html": [
              "<div>\n",
              "<style scoped>\n",
              "    .dataframe tbody tr th:only-of-type {\n",
              "        vertical-align: middle;\n",
              "    }\n",
              "\n",
              "    .dataframe tbody tr th {\n",
              "        vertical-align: top;\n",
              "    }\n",
              "\n",
              "    .dataframe thead th {\n",
              "        text-align: right;\n",
              "    }\n",
              "</style>\n",
              "<table border=\"1\" class=\"dataframe\">\n",
              "  <thead>\n",
              "    <tr style=\"text-align: right;\">\n",
              "      <th></th>\n",
              "      <th>DATE</th>\n",
              "      <th>FRAME</th>\n",
              "      <th>E_DIFF</th>\n",
              "    </tr>\n",
              "  </thead>\n",
              "  <tbody>\n",
              "    <tr>\n",
              "      <th>2</th>\n",
              "      <td>06/12/2021</td>\n",
              "      <td>8</td>\n",
              "      <td>639.0</td>\n",
              "    </tr>\n",
              "    <tr>\n",
              "      <th>3</th>\n",
              "      <td>06/12/2021</td>\n",
              "      <td>12</td>\n",
              "      <td>575.0</td>\n",
              "    </tr>\n",
              "    <tr>\n",
              "      <th>4</th>\n",
              "      <td>06/12/2021</td>\n",
              "      <td>16</td>\n",
              "      <td>274.0</td>\n",
              "    </tr>\n",
              "    <tr>\n",
              "      <th>8</th>\n",
              "      <td>06/13/2021</td>\n",
              "      <td>8</td>\n",
              "      <td>576.0</td>\n",
              "    </tr>\n",
              "    <tr>\n",
              "      <th>9</th>\n",
              "      <td>06/13/2021</td>\n",
              "      <td>12</td>\n",
              "      <td>593.0</td>\n",
              "    </tr>\n",
              "    <tr>\n",
              "      <th>...</th>\n",
              "      <td>...</td>\n",
              "      <td>...</td>\n",
              "      <td>...</td>\n",
              "    </tr>\n",
              "    <tr>\n",
              "      <th>495</th>\n",
              "      <td>09/02/2021</td>\n",
              "      <td>12</td>\n",
              "      <td>461.0</td>\n",
              "    </tr>\n",
              "    <tr>\n",
              "      <th>496</th>\n",
              "      <td>09/02/2021</td>\n",
              "      <td>16</td>\n",
              "      <td>426.0</td>\n",
              "    </tr>\n",
              "    <tr>\n",
              "      <th>500</th>\n",
              "      <td>09/03/2021</td>\n",
              "      <td>8</td>\n",
              "      <td>616.0</td>\n",
              "    </tr>\n",
              "    <tr>\n",
              "      <th>501</th>\n",
              "      <td>09/03/2021</td>\n",
              "      <td>12</td>\n",
              "      <td>137.0</td>\n",
              "    </tr>\n",
              "    <tr>\n",
              "      <th>502</th>\n",
              "      <td>09/03/2021</td>\n",
              "      <td>16</td>\n",
              "      <td>541.0</td>\n",
              "    </tr>\n",
              "  </tbody>\n",
              "</table>\n",
              "<p>252 rows × 3 columns</p>\n",
              "</div>"
            ],
            "text/plain": [
              "           DATE  FRAME  E_DIFF\n",
              "2    06/12/2021      8   639.0\n",
              "3    06/12/2021     12   575.0\n",
              "4    06/12/2021     16   274.0\n",
              "8    06/13/2021      8   576.0\n",
              "9    06/13/2021     12   593.0\n",
              "..          ...    ...     ...\n",
              "495  09/02/2021     12   461.0\n",
              "496  09/02/2021     16   426.0\n",
              "500  09/03/2021      8   616.0\n",
              "501  09/03/2021     12   137.0\n",
              "502  09/03/2021     16   541.0\n",
              "\n",
              "[252 rows x 3 columns]"
            ]
          },
          "metadata": {},
          "execution_count": 28
        }
      ]
    },
    {
      "cell_type": "code",
      "metadata": {
        "id": "Jeb424Gek-1o",
        "outputId": "bb2e27a9-87b9-4ea8-e99e-8ca68726c6e2",
        "colab": {
          "base_uri": "https://localhost:8080/",
          "height": 297
        }
      },
      "source": [
        "sns.lineplot(x= roos_grouped[day_mask].FRAME, y = roos_grouped[day_mask].DIFF)"
      ],
      "id": "Jeb424Gek-1o",
      "execution_count": 114,
      "outputs": [
        {
          "output_type": "execute_result",
          "data": {
            "text/plain": [
              "<matplotlib.axes._subplots.AxesSubplot at 0x7f021e313390>"
            ]
          },
          "metadata": {},
          "execution_count": 114
        },
        {
          "output_type": "display_data",
          "data": {
            "image/png": "[encoded data removed]",
            "text/plain": [
              "<Figure size 432x288 with 1 Axes>"
            ]
          },
          "metadata": {
            "needs_background": "light"
          }
        }
      ]
    },
    {
      "cell_type": "code",
      "metadata": {
        "id": "113d4c92"
      },
      "source": [
        "roos = df[df.STATION == 'RIT-ROOSEVELT'].sort_values(\"ENTRIES\", ascending=False).copy(deep = True)\n",
        "\n",
        "roos.drop(roos[roos.ENTRIES<0].index, inplace = True)\n",
        "diff = []\n",
        "for i in range(0,len(roos.ENTRIES)):\n",
        "  try:\n",
        "    diff.append(roos.ENTRIES.iloc[i]-roos.ENTRIES.iloc[i+1])\n",
        "  except IndexError:\n",
        "    break\n",
        "roos.index = range(len(roos.index))\n",
        "#\n",
        "roos.drop(roos.index[0], inplace = True)\n",
        "roos.ENTRIES = diff\n",
        "roos = roos.groupby(['TIME','DATE'], dropna=True).ENTRIES.sum().reset_index()\n",
        "roos.sort_values(by='ENTRIES', ascending = False).head(10)\n",
        "roos.drop([roos.index[510],roos.index[172]], inplace = True)"
      ],
      "id": "113d4c92",
      "execution_count": null,
      "outputs": []
    },
    {
      "cell_type": "code",
      "metadata": {
        "id": "9PYkmMdMbzqD"
      },
      "source": [
        ""
      ],
      "id": "9PYkmMdMbzqD",
      "execution_count": null,
      "outputs": []
    },
    {
      "cell_type": "code",
      "metadata": {
        "colab": {
          "base_uri": "https://localhost:8080/",
          "height": 533
        },
        "id": "cTV0luClaR8H",
        "outputId": "a0fdf48c-c608-4409-fc7c-a724be2175a1"
      },
      "source": [
        "\n",
        "import seaborn\n",
        "chart = seaborn.barplot(x = roos['TIME'], y = roos['ENTRIES'])\n",
        "chart.set_xticks(chart.get_xticks())\n",
        "chart.set_xticklabels(chart.get_xticklabels(), rotation=45)"
      ],
      "id": "cTV0luClaR8H",
      "execution_count": null,
      "outputs": [
        {
          "output_type": "execute_result",
          "data": {
            "text/plain": [
              "[Text(0, 0, '01:00:00'),\n",
              " Text(0, 0, '05:00:00'),\n",
              " Text(0, 0, '07:31:50'),\n",
              " Text(0, 0, '08:52:59'),\n",
              " Text(0, 0, '09:00:00'),\n",
              " Text(0, 0, '09:12:54'),\n",
              " Text(0, 0, '09:37:06'),\n",
              " Text(0, 0, '13:00:00'),\n",
              " Text(0, 0, '16:39:45'),\n",
              " Text(0, 0, '17:00:00'),\n",
              " Text(0, 0, '19:03:05'),\n",
              " Text(0, 0, '19:49:29'),\n",
              " Text(0, 0, '21:00:00')]"
            ]
          },
          "metadata": {},
          "execution_count": 262
        },
        {
          "output_type": "display_data",
          "data": {
            "image/png": "[encoded data removed]",
            "text/plain": [
              "<Figure size 432x288 with 1 Axes>"
            ]
          },
          "metadata": {
            "needs_background": "light"
          }
        }
      ]
    },
    {
      "cell_type": "code",
      "metadata": {
        "id": "TaP2YNLxrPPi"
      },
      "source": [
        ""
      ],
      "id": "TaP2YNLxrPPi",
      "execution_count": null,
      "outputs": []
    }
  ]
}