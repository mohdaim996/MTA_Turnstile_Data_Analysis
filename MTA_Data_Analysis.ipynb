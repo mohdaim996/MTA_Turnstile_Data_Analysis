{
 "cells": [
  {
   "cell_type": "code",
   "execution_count": 2,
   "id": "9dd04a5b",
   "metadata": {},
   "outputs": [],
   "source": [
    "import  requests\n",
    "from bs4 import BeautifulSoup\n",
    "import pandas as pd\n"
   ]
  },
  {
   "cell_type": "markdown",
   "id": "7ef31e26",
   "metadata": {},
   "source": [
    "# MTA Turnstile Data Analysis"
   ]
  },
  {
   "cell_type": "markdown",
   "id": "696ebb33",
   "metadata": {},
   "source": [
    "### 1. Define the route and location of the data"
   ]
  },
  {
   "cell_type": "code",
   "execution_count": 3,
   "id": "cdd7ea47",
   "metadata": {},
   "outputs": [],
   "source": [
    "#Location of the data\n",
    "url = 'http://web.mta.info/developers/turnstile.html'\n",
    "#relative path of the data\n",
    "#will be formated as http://web.mta.info/developers/data/nyct/turnstile/[file name].txt\n",
    "route = 'data/nyct/turnstile/'"
   ]
  },
  {
   "cell_type": "markdown",
   "id": "d58bb209",
   "metadata": {},
   "source": [
    "## 2. Access location, get and parse html content "
   ]
  },
  {
   "cell_type": "code",
   "execution_count": 4,
   "id": "cc69e6fc",
   "metadata": {},
   "outputs": [],
   "source": [
    "#perform a get request on the url\n",
    "page = requests.get(url)\n",
    "#parse its html to query and access the page elements\n",
    "content = BeautifulSoup(page.content, \"html.parser\")\n",
    "\n",
    "#query all 'a' element \n",
    "links = content.find_all('a')"
   ]
  },
  {
   "cell_type": "markdown",
   "id": "61d1ab79",
   "metadata": {},
   "source": [
    "## 3. Extrct relevant links"
   ]
  },
  {
   "cell_type": "code",
   "execution_count": 5,
   "id": "7d18dea3",
   "metadata": {},
   "outputs": [
    {
     "name": "stdout",
     "output_type": "stream",
     "text": [
      "591\n"
     ]
    }
   ],
   "source": [
    "data_links = []\n",
    "for link in links:\n",
    "    #try accessing the href attribute of the tag, otherwise continue since it doesn't have one\n",
    "    try:\n",
    "        #if file is stored in the rout 'data/nyct/turnstile/' then we will save it, else continue\n",
    "        if route in link['href']:\n",
    "            data_links.append(\"http://web.mta.info/developers/\" + link[\"href\"])\n",
    "        else:\n",
    "            continue\n",
    "    except KeyError:\n",
    "        continue\n",
    "print(len(data_links))#->591"
   ]
  },
  {
   "cell_type": "markdown",
   "id": "ce16de92",
   "metadata": {},
   "source": [
    "## 4. Load data, create dataframe"
   ]
  },
  {
   "cell_type": "code",
   "execution_count": 6,
   "id": "ee54a2c8",
   "metadata": {},
   "outputs": [],
   "source": [
    "#save a subset of the links\n",
    "required_links = data_links[0:12]\n",
    "#load and read data\n",
    "dfs = [pd.read_csv(link) for link in required_links]\n",
    "#combine all data into a single dataframe\n",
    "df = pd.concat(dfs)"
   ]
  },
  {
   "cell_type": "markdown",
   "id": "33395602",
   "metadata": {},
   "source": [
    "## 5. Preview data"
   ]
  },
  {
   "cell_type": "code",
   "execution_count": 7,
   "id": "20b3e2a1",
   "metadata": {},
   "outputs": [
    {
     "name": "stdout",
     "output_type": "stream",
     "text": [
      "Index(['C/A', 'UNIT', 'SCP', 'STATION', 'LINENAME', 'DIVISION', 'DATE', 'TIME',\n",
      "       'DESC', 'ENTRIES',\n",
      "       'EXITS                                                               '],\n",
      "      dtype='object')\n"
     ]
    }
   ],
   "source": [
    "print(df.columns)"
   ]
  },
  {
   "cell_type": "code",
   "execution_count": 8,
   "id": "d6a9cae1",
   "metadata": {
    "scrolled": false
   },
   "outputs": [
    {
     "name": "stdout",
     "output_type": "stream",
     "text": [
      "Index(['C/A', 'UNIT', 'SCP', 'STATION', 'LINENAME', 'DIVISION', 'DATE', 'TIME',\n",
      "       'DESC', 'ENTRIES', 'EXITS'],\n",
      "      dtype='object')\n"
     ]
    }
   ],
   "source": [
    "#remove white space in last column \n",
    "df.rename(columns = {df.columns[-1]:df.columns[-1].strip()},inplace = True)\n",
    "print(df.columns)"
   ]
  },
  {
   "cell_type": "code",
   "execution_count": 9,
   "id": "0df77d31",
   "metadata": {},
   "outputs": [
    {
     "data": {
      "text/html": [
       "<div>\n",
       "<style scoped>\n",
       "    .dataframe tbody tr th:only-of-type {\n",
       "        vertical-align: middle;\n",
       "    }\n",
       "\n",
       "    .dataframe tbody tr th {\n",
       "        vertical-align: top;\n",
       "    }\n",
       "\n",
       "    .dataframe thead th {\n",
       "        text-align: right;\n",
       "    }\n",
       "</style>\n",
       "<table border=\"1\" class=\"dataframe\">\n",
       "  <thead>\n",
       "    <tr style=\"text-align: right;\">\n",
       "      <th></th>\n",
       "      <th>C/A</th>\n",
       "      <th>UNIT</th>\n",
       "      <th>SCP</th>\n",
       "      <th>STATION</th>\n",
       "      <th>LINENAME</th>\n",
       "      <th>DIVISION</th>\n",
       "      <th>DATE</th>\n",
       "      <th>TIME</th>\n",
       "      <th>DESC</th>\n",
       "      <th>ENTRIES</th>\n",
       "      <th>EXITS</th>\n",
       "    </tr>\n",
       "  </thead>\n",
       "  <tbody>\n",
       "    <tr>\n",
       "      <th>0</th>\n",
       "      <td>A002</td>\n",
       "      <td>R051</td>\n",
       "      <td>02-00-00</td>\n",
       "      <td>59 ST</td>\n",
       "      <td>NQR456W</td>\n",
       "      <td>BMT</td>\n",
       "      <td>08/21/2021</td>\n",
       "      <td>00:00:00</td>\n",
       "      <td>REGULAR</td>\n",
       "      <td>7622548</td>\n",
       "      <td>2607689</td>\n",
       "    </tr>\n",
       "    <tr>\n",
       "      <th>1</th>\n",
       "      <td>A002</td>\n",
       "      <td>R051</td>\n",
       "      <td>02-00-00</td>\n",
       "      <td>59 ST</td>\n",
       "      <td>NQR456W</td>\n",
       "      <td>BMT</td>\n",
       "      <td>08/21/2021</td>\n",
       "      <td>04:00:00</td>\n",
       "      <td>REGULAR</td>\n",
       "      <td>7622561</td>\n",
       "      <td>2607697</td>\n",
       "    </tr>\n",
       "    <tr>\n",
       "      <th>2</th>\n",
       "      <td>A002</td>\n",
       "      <td>R051</td>\n",
       "      <td>02-00-00</td>\n",
       "      <td>59 ST</td>\n",
       "      <td>NQR456W</td>\n",
       "      <td>BMT</td>\n",
       "      <td>08/21/2021</td>\n",
       "      <td>08:00:00</td>\n",
       "      <td>REGULAR</td>\n",
       "      <td>7622573</td>\n",
       "      <td>2607718</td>\n",
       "    </tr>\n",
       "    <tr>\n",
       "      <th>3</th>\n",
       "      <td>A002</td>\n",
       "      <td>R051</td>\n",
       "      <td>02-00-00</td>\n",
       "      <td>59 ST</td>\n",
       "      <td>NQR456W</td>\n",
       "      <td>BMT</td>\n",
       "      <td>08/21/2021</td>\n",
       "      <td>12:00:00</td>\n",
       "      <td>REGULAR</td>\n",
       "      <td>7622604</td>\n",
       "      <td>2607766</td>\n",
       "    </tr>\n",
       "    <tr>\n",
       "      <th>4</th>\n",
       "      <td>A002</td>\n",
       "      <td>R051</td>\n",
       "      <td>02-00-00</td>\n",
       "      <td>59 ST</td>\n",
       "      <td>NQR456W</td>\n",
       "      <td>BMT</td>\n",
       "      <td>08/21/2021</td>\n",
       "      <td>16:00:00</td>\n",
       "      <td>REGULAR</td>\n",
       "      <td>7622715</td>\n",
       "      <td>2607802</td>\n",
       "    </tr>\n",
       "    <tr>\n",
       "      <th>...</th>\n",
       "      <td>...</td>\n",
       "      <td>...</td>\n",
       "      <td>...</td>\n",
       "      <td>...</td>\n",
       "      <td>...</td>\n",
       "      <td>...</td>\n",
       "      <td>...</td>\n",
       "      <td>...</td>\n",
       "      <td>...</td>\n",
       "      <td>...</td>\n",
       "      <td>...</td>\n",
       "    </tr>\n",
       "    <tr>\n",
       "      <th>209501</th>\n",
       "      <td>TRAM2</td>\n",
       "      <td>R469</td>\n",
       "      <td>00-05-01</td>\n",
       "      <td>RIT-ROOSEVELT</td>\n",
       "      <td>R</td>\n",
       "      <td>RIT</td>\n",
       "      <td>06/11/2021</td>\n",
       "      <td>05:00:00</td>\n",
       "      <td>REGULAR</td>\n",
       "      <td>5554</td>\n",
       "      <td>584</td>\n",
       "    </tr>\n",
       "    <tr>\n",
       "      <th>209502</th>\n",
       "      <td>TRAM2</td>\n",
       "      <td>R469</td>\n",
       "      <td>00-05-01</td>\n",
       "      <td>RIT-ROOSEVELT</td>\n",
       "      <td>R</td>\n",
       "      <td>RIT</td>\n",
       "      <td>06/11/2021</td>\n",
       "      <td>09:00:00</td>\n",
       "      <td>REGULAR</td>\n",
       "      <td>5554</td>\n",
       "      <td>584</td>\n",
       "    </tr>\n",
       "    <tr>\n",
       "      <th>209503</th>\n",
       "      <td>TRAM2</td>\n",
       "      <td>R469</td>\n",
       "      <td>00-05-01</td>\n",
       "      <td>RIT-ROOSEVELT</td>\n",
       "      <td>R</td>\n",
       "      <td>RIT</td>\n",
       "      <td>06/11/2021</td>\n",
       "      <td>13:00:00</td>\n",
       "      <td>REGULAR</td>\n",
       "      <td>5554</td>\n",
       "      <td>584</td>\n",
       "    </tr>\n",
       "    <tr>\n",
       "      <th>209504</th>\n",
       "      <td>TRAM2</td>\n",
       "      <td>R469</td>\n",
       "      <td>00-05-01</td>\n",
       "      <td>RIT-ROOSEVELT</td>\n",
       "      <td>R</td>\n",
       "      <td>RIT</td>\n",
       "      <td>06/11/2021</td>\n",
       "      <td>17:00:00</td>\n",
       "      <td>REGULAR</td>\n",
       "      <td>5554</td>\n",
       "      <td>584</td>\n",
       "    </tr>\n",
       "    <tr>\n",
       "      <th>209505</th>\n",
       "      <td>TRAM2</td>\n",
       "      <td>R469</td>\n",
       "      <td>00-05-01</td>\n",
       "      <td>RIT-ROOSEVELT</td>\n",
       "      <td>R</td>\n",
       "      <td>RIT</td>\n",
       "      <td>06/11/2021</td>\n",
       "      <td>21:00:00</td>\n",
       "      <td>REGULAR</td>\n",
       "      <td>5554</td>\n",
       "      <td>584</td>\n",
       "    </tr>\n",
       "  </tbody>\n",
       "</table>\n",
       "<p>2513079 rows × 11 columns</p>\n",
       "</div>"
      ],
      "text/plain": [
       "          C/A  UNIT       SCP        STATION LINENAME DIVISION        DATE  \\\n",
       "0        A002  R051  02-00-00          59 ST  NQR456W      BMT  08/21/2021   \n",
       "1        A002  R051  02-00-00          59 ST  NQR456W      BMT  08/21/2021   \n",
       "2        A002  R051  02-00-00          59 ST  NQR456W      BMT  08/21/2021   \n",
       "3        A002  R051  02-00-00          59 ST  NQR456W      BMT  08/21/2021   \n",
       "4        A002  R051  02-00-00          59 ST  NQR456W      BMT  08/21/2021   \n",
       "...       ...   ...       ...            ...      ...      ...         ...   \n",
       "209501  TRAM2  R469  00-05-01  RIT-ROOSEVELT        R      RIT  06/11/2021   \n",
       "209502  TRAM2  R469  00-05-01  RIT-ROOSEVELT        R      RIT  06/11/2021   \n",
       "209503  TRAM2  R469  00-05-01  RIT-ROOSEVELT        R      RIT  06/11/2021   \n",
       "209504  TRAM2  R469  00-05-01  RIT-ROOSEVELT        R      RIT  06/11/2021   \n",
       "209505  TRAM2  R469  00-05-01  RIT-ROOSEVELT        R      RIT  06/11/2021   \n",
       "\n",
       "            TIME     DESC  ENTRIES    EXITS  \n",
       "0       00:00:00  REGULAR  7622548  2607689  \n",
       "1       04:00:00  REGULAR  7622561  2607697  \n",
       "2       08:00:00  REGULAR  7622573  2607718  \n",
       "3       12:00:00  REGULAR  7622604  2607766  \n",
       "4       16:00:00  REGULAR  7622715  2607802  \n",
       "...          ...      ...      ...      ...  \n",
       "209501  05:00:00  REGULAR     5554      584  \n",
       "209502  09:00:00  REGULAR     5554      584  \n",
       "209503  13:00:00  REGULAR     5554      584  \n",
       "209504  17:00:00  REGULAR     5554      584  \n",
       "209505  21:00:00  REGULAR     5554      584  \n",
       "\n",
       "[2513079 rows x 11 columns]"
      ]
     },
     "execution_count": 9,
     "metadata": {},
     "output_type": "execute_result"
    }
   ],
   "source": [
    "df"
   ]
  }
 ],
 "metadata": {
  "kernelspec": {
   "display_name": "Python 3 (ipykernel)",
   "language": "python",
   "name": "python3"
  },
  "language_info": {
   "codemirror_mode": {
    "name": "ipython",
    "version": 3
   },
   "file_extension": ".py",
   "mimetype": "text/x-python",
   "name": "python",
   "nbconvert_exporter": "python",
   "pygments_lexer": "ipython3",
   "version": "3.9.4"
  }
 },
 "nbformat": 4,
 "nbformat_minor": 5
}
